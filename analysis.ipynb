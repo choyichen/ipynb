{
 "cells": [
  {
   "cell_type": "markdown",
   "metadata": {},
   "source": [
    "# Analysis Title\n",
    "\n",
    "**Author**: cychen (ntu.joey@gmail.com)\n",
    "\n",
    "Brief description, including:\n",
    "\n",
    "* Background/Introduction\n",
    "* Research Questions/Aims\n",
    "* Steps: Design the analysis workflow\n",
    "  * 1st\n",
    "  * 2nd\n",
    "  * ...\n",
    "* Conclusions\n",
    "* Notes: Anything worth noted. Assumptions and limitations.\n",
    "* Versions: Incremenet the version number in the filename. Old version will be kept in `.ipynb_checkpoints`.\n",
    "  * v1: \n",
    "  * v2:\n",
    "\n",
    "**Tips**:\n",
    "\n",
    "  * Use [links](#Functions) to link to sections\n",
    "  * Use IPython parallel to speed up\n",
    "  * Save plots to `../plots` and use markdown cell to link/show plots\n",
    "  * Save output tables to `../reports` (big table in HDF5 format)\n",
    "  * Store temp files at `/dev/shm`\n",
    "  * Use `pyprind`'s `ProgBar` and `ProgPercent` to show the progress in real time (See `misc/IPython/job_monitor.ipynb`)\n",
    "  * Use Email notification `!echo '$msg' | mail -s 'noah-cychen: Job done!' ntu.joey@gmail.com`"
   ]
  },
  {
   "cell_type": "markdown",
   "metadata": {
    "heading_collapsed": true
   },
   "source": [
    "# Setup\n",
    "\n",
    "* List all required modules/packages and version information\n",
    "* Setup the parameters (input paths, variables, output paths, ...)\n",
    "\n",
    "**Parameters**\n",
    "\n",
    "* foo\n",
    "* bar\n",
    "\n",
    "**Input**\n",
    "\n",
    "1. resource 1\n",
    "2. resource 2\n",
    "\n",
    "**Output**\n",
    "\n",
    "1. figure 1: `../plots/fig1.png`\n",
    "2. figure 2: `../plots/fig2.png`"
   ]
  },
  {
   "cell_type": "code",
   "execution_count": 11,
   "metadata": {
    "collapsed": false
   },
   "outputs": [
    {
     "data": {
      "application/json": {
       "Software versions": [
        {
         "module": "Python",
         "version": "2.7.12 64bit [GCC 4.4.7 20120313 (Red Hat 4.4.7-1)]"
        },
        {
         "module": "IPython",
         "version": "4.1.2"
        },
        {
         "module": "OS",
         "version": "Linux 2.6.32 431.3.1.el6.x86_64 x86_64 with centos 6.8 Final"
        },
        {
         "module": "numpy",
         "version": "1.10.4"
        },
        {
         "module": "pandas",
         "version": "0.18.0"
        },
        {
         "module": "seaborn",
         "version": "0.7.0"
        }
       ]
      },
      "text/html": [
       "<table><tr><th>Software</th><th>Version</th></tr><tr><td>Python</td><td>2.7.12 64bit [GCC 4.4.7 20120313 (Red Hat 4.4.7-1)]</td></tr><tr><td>IPython</td><td>4.1.2</td></tr><tr><td>OS</td><td>Linux 2.6.32 431.3.1.el6.x86_64 x86_64 with centos 6.8 Final</td></tr><tr><td>numpy</td><td>1.10.4</td></tr><tr><td>pandas</td><td>0.18.0</td></tr><tr><td>seaborn</td><td>0.7.0</td></tr><tr><td colspan='2'>Tue Oct 25 01:12:56 2016 EDT</td></tr></table>"
      ],
      "text/latex": [
       "\\begin{tabular}{|l|l|}\\hline\n",
       "{\\bf Software} & {\\bf Version} \\\\ \\hline\\hline\n",
       "Python & 2.7.12 64bit [GCC 4.4.7 20120313 (Red Hat 4.4.7-1)] \\\\ \\hline\n",
       "IPython & 4.1.2 \\\\ \\hline\n",
       "OS & Linux 2.6.32 431.3.1.el6.x86\\_64 x86\\_64 with centos 6.8 Final \\\\ \\hline\n",
       "numpy & 1.10.4 \\\\ \\hline\n",
       "pandas & 0.18.0 \\\\ \\hline\n",
       "seaborn & 0.7.0 \\\\ \\hline\n",
       "\\hline \\multicolumn{2}{|l|}{Tue Oct 25 01:12:56 2016 EDT} \\\\ \\hline\n",
       "\\end{tabular}\n"
      ],
      "text/plain": [
       "Software versions\n",
       "Python 2.7.12 64bit [GCC 4.4.7 20120313 (Red Hat 4.4.7-1)]\n",
       "IPython 4.1.2\n",
       "OS Linux 2.6.32 431.3.1.el6.x86_64 x86_64 with centos 6.8 Final\n",
       "numpy 1.10.4\n",
       "pandas 0.18.0\n",
       "seaborn 0.7.0\n",
       "Tue Oct 25 01:12:56 2016 EDT"
      ]
     },
     "execution_count": 11,
     "metadata": {},
     "output_type": "execute_result"
    }
   ],
   "source": [
    "import sys\n",
    "\n",
    "from pylab import *\n",
    "import pandas as pd\n",
    "import seaborn as sns\n",
    "\n",
    "#import config\n",
    "\n",
    "%reload_ext version_information\n",
    "%version_information numpy, pandas, seaborn"
   ]
  },
  {
   "cell_type": "markdown",
   "metadata": {},
   "source": [
    "# Functions\n",
    "\n",
    "Define the functions that will be used in this notebook. Put shared functions into a module at `../py`."
   ]
  },
  {
   "cell_type": "markdown",
   "metadata": {
    "heading_collapsed": true
   },
   "source": [
    "## Function 1"
   ]
  },
  {
   "cell_type": "code",
   "execution_count": 1,
   "metadata": {
    "collapsed": false
   },
   "outputs": [],
   "source": [
    "def dummy_function(foo, bar):\n",
    "    \"\"\"A dummy function that does nothing.\n",
    "    \n",
    "    foo: a string or something\n",
    "    bar: a list of something\n",
    "    \n",
    "    Return something if needed.\n",
    "    \"\"\"\n",
    "    pass"
   ]
  },
  {
   "cell_type": "markdown",
   "metadata": {},
   "source": [
    "# Steps"
   ]
  },
  {
   "cell_type": "markdown",
   "metadata": {},
   "source": [
    "![](../plots/sample.png)"
   ]
  },
  {
   "cell_type": "markdown",
   "metadata": {},
   "source": [
    "<img src=\"../plots/sample.png\">"
   ]
  }
 ],
 "metadata": {
  "kernelspec": {
   "display_name": "Python 2",
   "language": "python",
   "name": "python2"
  },
  "language_info": {
   "codemirror_mode": {
    "name": "ipython",
    "version": 2
   },
   "file_extension": ".py",
   "mimetype": "text/x-python",
   "name": "python",
   "nbconvert_exporter": "python",
   "pygments_lexer": "ipython2",
   "version": "2.7.12"
  },
  "toc": {
   "toc_cell": false,
   "toc_number_sections": true,
   "toc_threshold": 6,
   "toc_window_display": true
  }
 },
 "nbformat": 4,
 "nbformat_minor": 0
}
